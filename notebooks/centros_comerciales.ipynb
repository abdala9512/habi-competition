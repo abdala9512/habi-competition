{
 "metadata": {
  "language_info": {
   "codemirror_mode": {
    "name": "ipython",
    "version": 3
   },
   "file_extension": ".py",
   "mimetype": "text/x-python",
   "name": "python",
   "nbconvert_exporter": "python",
   "pygments_lexer": "ipython3",
   "version": "3.8.5-final"
  },
  "orig_nbformat": 2,
  "kernelspec": {
   "name": "python3",
   "display_name": "Python 3.8.5 64-bit ('habi')",
   "metadata": {
    "interpreter": {
     "hash": "baa397e47d4721740c1127bcc23ce0d63bab2f26622077585121a7a2e7cd878d"
    }
   }
  }
 },
 "nbformat": 4,
 "nbformat_minor": 2,
 "cells": [
  {
   "cell_type": "code",
   "execution_count": 90,
   "metadata": {},
   "outputs": [],
   "source": [
    "import re\n",
    "import time\n",
    "import json\n",
    "import requests\n",
    "import pandas as pd\n",
    "import numpy as np\n",
    "from geopy.geocoders import Nominatim\n",
    "\n",
    "from collections import defaultdict, Counter\n",
    "\n",
    "from bs4 import BeautifulSoup\n",
    "from requests_html import HTML\n",
    "\n",
    "from selenium import webdriver\n",
    "from selenium.webdriver.chrome.options import Options"
   ]
  },
  {
   "source": [
    "# Base de Bogota mi ciudad"
   ],
   "cell_type": "markdown",
   "metadata": {}
  },
  {
   "cell_type": "code",
   "execution_count": 4,
   "metadata": {},
   "outputs": [],
   "source": [
    "url_cc = \"https://www.bogotamiciudad.com/directoriodebogota/comercio/5-9/bogota/centros_comerciales#res\""
   ]
  },
  {
   "cell_type": "code",
   "execution_count": 7,
   "metadata": {},
   "outputs": [],
   "source": [
    "tags = [\"numero-resultado\",\"list-negocio-nombre\",\"list-direccion\"]\n",
    "data = []\n",
    "\n",
    "for link in range(1,16,1):\n",
    "    time.sleep(1)\n",
    "    if link==1:\n",
    "        req = requests.get(url_cc)\n",
    "        html_str = req.text\n",
    "        soup = BeautifulSoup(html_str, \"html.parser\")\n",
    "    else:   \n",
    "        req = requests.get(f\"https://www.bogotamiciudad.com/directoriodebogota/comercio/5-9/bogota/centros_comerciales?p={link}#res\")\n",
    "        html_str = req.text\n",
    "        soup = BeautifulSoup(html_str, \"html.parser\")\n",
    "\n",
    "    row_data = defaultdict(list)\n",
    "    for tag in tags:\n",
    "        for row in soup.find_all(['span','h3','p'],attrs={\"class\" : tag}):\n",
    "            row_data[tag].append(row.text)        \n",
    "    data.append(dict(row_data))\n",
    "\n",
    "dict_final = {}\n",
    "for k in data[0].keys():\n",
    "    dict_final[k] = sum([dict_final[k] for dict_final in data], [])"
   ]
  },
  {
   "cell_type": "code",
   "execution_count": 9,
   "metadata": {},
   "outputs": [],
   "source": [
    "base = pd.DataFrame(dict_final)"
   ]
  },
  {
   "cell_type": "code",
   "execution_count": 10,
   "metadata": {},
   "outputs": [
    {
     "output_type": "execute_result",
     "data": {
      "text/plain": [
       "    numero-resultado               list-negocio-nombre  \\\n",
       "0                 1.                    \\n1.\\nAndino\\n   \n",
       "1                 2.                   \\n2.\\nAntares\\n   \n",
       "2                 3.                     \\n3.\\nApolo\\n   \n",
       "3                 4.       \\n4.\\nArtesanías de la 53\\n   \n",
       "4                 5.        \\n5.\\nAsturias de Oviedo\\n   \n",
       "..               ...                               ...   \n",
       "145             146.  \\n146.\\nUnicentro de Occidente\\n   \n",
       "146             147.                 \\n147.\\nUnilago\\n   \n",
       "147             148.                 \\n148.\\nUnilago\\n   \n",
       "148             149.                  \\n149.\\nUnisur\\n   \n",
       "149             150.               \\n150.\\nUniversal\\n   \n",
       "\n",
       "                                        list-direccion  \n",
       "0    \\n\\r\\nCarrera 11 #82-71                    \\r\\...  \n",
       "1    \\n\\r\\nAutopista Sur #Cra 4 # 31-40            ...  \n",
       "2    \\n\\r\\nCalle 16 #8-95                    \\r\\n  ...  \n",
       "3    \\n\\r\\nCalle 53 #18-31                    \\r\\n ...  \n",
       "4    \\n\\r\\nCarrera 10 #1-50 Vía Guaymaral          ...  \n",
       "..                                                 ...  \n",
       "145  \\n\\r\\nCarrera 111C #86-05                    \\...  \n",
       "146  \\n\\r\\nCarrera 15 #78-33                    \\r\\...  \n",
       "147  \\n\\r\\nAvenida Carrera 15 #78-33               ...  \n",
       "148  \\n\\r\\nCarrera 4 #28-10                    \\r\\n...  \n",
       "149  \\n\\r\\nAvenida Caracas #12-81                  ...  \n",
       "\n",
       "[150 rows x 3 columns]"
      ],
      "text/html": "<div>\n<style scoped>\n    .dataframe tbody tr th:only-of-type {\n        vertical-align: middle;\n    }\n\n    .dataframe tbody tr th {\n        vertical-align: top;\n    }\n\n    .dataframe thead th {\n        text-align: right;\n    }\n</style>\n<table border=\"1\" class=\"dataframe\">\n  <thead>\n    <tr style=\"text-align: right;\">\n      <th></th>\n      <th>numero-resultado</th>\n      <th>list-negocio-nombre</th>\n      <th>list-direccion</th>\n    </tr>\n  </thead>\n  <tbody>\n    <tr>\n      <th>0</th>\n      <td>1.</td>\n      <td>\\n1.\\nAndino\\n</td>\n      <td>\\n\\r\\nCarrera 11 #82-71                    \\r\\...</td>\n    </tr>\n    <tr>\n      <th>1</th>\n      <td>2.</td>\n      <td>\\n2.\\nAntares\\n</td>\n      <td>\\n\\r\\nAutopista Sur #Cra 4 # 31-40            ...</td>\n    </tr>\n    <tr>\n      <th>2</th>\n      <td>3.</td>\n      <td>\\n3.\\nApolo\\n</td>\n      <td>\\n\\r\\nCalle 16 #8-95                    \\r\\n  ...</td>\n    </tr>\n    <tr>\n      <th>3</th>\n      <td>4.</td>\n      <td>\\n4.\\nArtesanías de la 53\\n</td>\n      <td>\\n\\r\\nCalle 53 #18-31                    \\r\\n ...</td>\n    </tr>\n    <tr>\n      <th>4</th>\n      <td>5.</td>\n      <td>\\n5.\\nAsturias de Oviedo\\n</td>\n      <td>\\n\\r\\nCarrera 10 #1-50 Vía Guaymaral          ...</td>\n    </tr>\n    <tr>\n      <th>...</th>\n      <td>...</td>\n      <td>...</td>\n      <td>...</td>\n    </tr>\n    <tr>\n      <th>145</th>\n      <td>146.</td>\n      <td>\\n146.\\nUnicentro de Occidente\\n</td>\n      <td>\\n\\r\\nCarrera 111C #86-05                    \\...</td>\n    </tr>\n    <tr>\n      <th>146</th>\n      <td>147.</td>\n      <td>\\n147.\\nUnilago\\n</td>\n      <td>\\n\\r\\nCarrera 15 #78-33                    \\r\\...</td>\n    </tr>\n    <tr>\n      <th>147</th>\n      <td>148.</td>\n      <td>\\n148.\\nUnilago\\n</td>\n      <td>\\n\\r\\nAvenida Carrera 15 #78-33               ...</td>\n    </tr>\n    <tr>\n      <th>148</th>\n      <td>149.</td>\n      <td>\\n149.\\nUnisur\\n</td>\n      <td>\\n\\r\\nCarrera 4 #28-10                    \\r\\n...</td>\n    </tr>\n    <tr>\n      <th>149</th>\n      <td>150.</td>\n      <td>\\n150.\\nUniversal\\n</td>\n      <td>\\n\\r\\nAvenida Caracas #12-81                  ...</td>\n    </tr>\n  </tbody>\n</table>\n<p>150 rows × 3 columns</p>\n</div>"
     },
     "metadata": {},
     "execution_count": 10
    }
   ],
   "source": [
    "base"
   ]
  },
  {
   "cell_type": "code",
   "execution_count": 75,
   "metadata": {},
   "outputs": [],
   "source": [
    "# ajuste df final\n",
    "df_final = base.copy()\n",
    "df_final['list-negocio-nombre'] = df_final['list-negocio-nombre'].apply(lambda x: re.sub(r\"\\s+\",\" \",x))\n",
    "df_final['list-direccion'] = df_final['list-direccion'].apply(lambda x: re.sub(r\"\\s+\",\" \",x))\n",
    "df_final= df_final[['list-negocio-nombre','list-direccion']] "
   ]
  },
  {
   "cell_type": "code",
   "execution_count": 76,
   "metadata": {},
   "outputs": [],
   "source": [
    "df_final['conteo'] = df_final['list-negocio-nombre'].apply(lambda x: x.count('.'))"
   ]
  },
  {
   "cell_type": "code",
   "execution_count": 77,
   "metadata": {},
   "outputs": [],
   "source": [
    "\n",
    "df_final['list-negocio-nombre'] = np.where(df_final['list-negocio-nombre']==' 90. Mundo G.S.M ','90. Mundo Tech',df_final['list-negocio-nombre'])"
   ]
  },
  {
   "cell_type": "code",
   "execution_count": 78,
   "metadata": {},
   "outputs": [
    {
     "output_type": "execute_result",
     "data": {
      "text/plain": [
       "'90. Mundo Tech'"
      ]
     },
     "metadata": {},
     "execution_count": 78
    }
   ],
   "source": [
    "df_final['list-negocio-nombre'][89]"
   ]
  },
  {
   "cell_type": "code",
   "execution_count": 79,
   "metadata": {},
   "outputs": [],
   "source": [
    "df_final[['list-resultado','list-negocio-nombre']] = df_final['list-negocio-nombre'].str.split(\".\",expand = True)"
   ]
  },
  {
   "cell_type": "code",
   "execution_count": 80,
   "metadata": {},
   "outputs": [],
   "source": [
    "df_final[['list-direccion','list-barrio']] = df_final['list-direccion'].str.split(\" • \",expand = True)"
   ]
  },
  {
   "cell_type": "code",
   "execution_count": 81,
   "metadata": {},
   "outputs": [],
   "source": [
    "df_final.drop(columns='conteo',inplace=True)"
   ]
  },
  {
   "cell_type": "code",
   "execution_count": 82,
   "metadata": {},
   "outputs": [],
   "source": [
    "df_final = df_final[['list-resultado','list-negocio-nombre','list-direccion','list-barrio']]"
   ]
  },
  {
   "cell_type": "code",
   "execution_count": 84,
   "metadata": {},
   "outputs": [],
   "source": [
    "for i in df_final.columns:\n",
    "    df_final[i] = df_final[i].apply(lambda x: x.strip())"
   ]
  },
  {
   "cell_type": "code",
   "execution_count": 133,
   "metadata": {},
   "outputs": [],
   "source": [
    "geolocator = Nominatim(timeout=10,user_agent=\"Pruebas\")"
   ]
  },
  {
   "cell_type": "code",
   "execution_count": 134,
   "metadata": {},
   "outputs": [],
   "source": [
    "#from geopy.extra.rate_limiter import RateLimiter\n",
    "#geocode = RateLimiter(geolocator.geocode,min_delay_seconds=2)"
   ]
  },
  {
   "cell_type": "code",
   "execution_count": 136,
   "metadata": {},
   "outputs": [],
   "source": [
    "df_final['conteo'] = df_final['list-direccion'].apply(lambda x: x.count('#'))"
   ]
  },
  {
   "cell_type": "code",
   "execution_count": 138,
   "metadata": {},
   "outputs": [
    {
     "output_type": "execute_result",
     "data": {
      "text/plain": [
       "1    Autopista Sur #Cra 4 # 31-40\n",
       "Name: list-direccion, dtype: object"
      ]
     },
     "metadata": {},
     "execution_count": 138
    }
   ],
   "source": [
    "df_final[df_final[\"conteo\"]>1][\"list-direccion\"]"
   ]
  },
  {
   "cell_type": "code",
   "execution_count": 139,
   "metadata": {},
   "outputs": [],
   "source": [
    "string_error = 'Autopista Sur #Cra 4 # 31-40'\n",
    "df_final['list-direccion'] = np.where(df_final['list-direccion']==string_error,'Autopista Sur Cra 4 # 31-40',df_final['list-direccion'])"
   ]
  },
  {
   "cell_type": "code",
   "execution_count": 140,
   "metadata": {},
   "outputs": [
    {
     "output_type": "execute_result",
     "data": {
      "text/plain": [
       "1    Autopista Sur Cra 4 # 31-40\n",
       "Name: list-direccion, dtype: object"
      ]
     },
     "metadata": {},
     "execution_count": 140
    }
   ],
   "source": [
    "df_final[df_final[\"conteo\"]>1][\"list-direccion\"]"
   ]
  },
  {
   "cell_type": "code",
   "execution_count": 141,
   "metadata": {},
   "outputs": [],
   "source": [
    "df_final[\"full-direccion\"] = df_final['list-direccion']+\",Bogotá,Colombia\""
   ]
  },
  {
   "cell_type": "code",
   "execution_count": null,
   "metadata": {},
   "outputs": [],
   "source": [
    "df_final[\"loc\"] = df_final['full-direccion'].apply(geolocator.geocode)"
   ]
  },
  {
   "cell_type": "code",
   "execution_count": 143,
   "metadata": {},
   "outputs": [],
   "source": [
    "df_final.drop(columns='conteo', inplace=True)"
   ]
  },
  {
   "cell_type": "code",
   "execution_count": 154,
   "metadata": {},
   "outputs": [],
   "source": [
    "df_final[\"point\"]= df_final[\"loc\"].apply(lambda loc: tuple(loc.point) if loc else None)"
   ]
  },
  {
   "cell_type": "code",
   "execution_count": 160,
   "metadata": {},
   "outputs": [],
   "source": [
    "df_final[['lat', 'lon', 'altitude']] = pd.DataFrame(df_final['point'].to_list(), index=df_final.index)"
   ]
  },
  {
   "cell_type": "code",
   "execution_count": 161,
   "metadata": {},
   "outputs": [
    {
     "output_type": "execute_result",
     "data": {
      "text/plain": [
       "    list-resultado     list-negocio-nombre                  list-direccion  \\\n",
       "0                1                  Andino               Carrera 11 #82-71   \n",
       "1                2                 Antares     Autopista Sur Cra 4 # 31-40   \n",
       "2                3                   Apolo                  Calle 16 #8-95   \n",
       "3                4     Artesanías de la 53                 Calle 53 #18-31   \n",
       "4                5      Asturias de Oviedo  Carrera 10 #1-50 Vía Guaymaral   \n",
       "..             ...                     ...                             ...   \n",
       "145            146  Unicentro de Occidente             Carrera 111C #86-05   \n",
       "146            147                 Unilago               Carrera 15 #78-33   \n",
       "147            148                 Unilago       Avenida Carrera 15 #78-33   \n",
       "148            149                  Unisur                Carrera 4 #28-10   \n",
       "149            150               Universal          Avenida Caracas #12-81   \n",
       "\n",
       "             list-barrio                                                loc  \\\n",
       "0              Chapinero  (Carrera 11, Sosiego Sur, UPZ San José, Locali...   \n",
       "1    Municipios Aledaños                                               None   \n",
       "2               Santa Fé  (Calle 16, El Vergel, UPZ Castilla, Localidad ...   \n",
       "3            Teusaquillo                                               None   \n",
       "4    Municipios Aledaños                                               None   \n",
       "..                   ...                                                ...   \n",
       "145             Engativá  (Carrera 111C, San Antonio Urbano, UPZ Engativ...   \n",
       "146            Chapinero  (Carrera 15, San Antonio, UPZ Restrepo, Locali...   \n",
       "147            Chapinero  (Avenida Carrera 15, La Ermita, UPZ Country Cl...   \n",
       "148  Municipios Aledaños  (Carrera 4, Buenos Aires, UPZ Sosiego, Localid...   \n",
       "149             Mártires  (Avenida Caracas, UPZ Los Alcázares, Localidad...   \n",
       "\n",
       "                                     full-direccion  \\\n",
       "0                 Carrera 11 #82-71,Bogotá,Colombia   \n",
       "1       Autopista Sur Cra 4 # 31-40,Bogotá,Colombia   \n",
       "2                    Calle 16 #8-95,Bogotá,Colombia   \n",
       "3                   Calle 53 #18-31,Bogotá,Colombia   \n",
       "4    Carrera 10 #1-50 Vía Guaymaral,Bogotá,Colombia   \n",
       "..                                              ...   \n",
       "145             Carrera 111C #86-05,Bogotá,Colombia   \n",
       "146               Carrera 15 #78-33,Bogotá,Colombia   \n",
       "147       Avenida Carrera 15 #78-33,Bogotá,Colombia   \n",
       "148                Carrera 4 #28-10,Bogotá,Colombia   \n",
       "149          Avenida Caracas #12-81,Bogotá,Colombia   \n",
       "\n",
       "                                     point       lat        lon  altitude  \n",
       "0            (4.5755692, -74.0986757, 0.0)  4.575569 -74.098676       0.0  \n",
       "1                                     None       NaN        NaN       NaN  \n",
       "2            (4.6547368, -74.1361171, 0.0)  4.654737 -74.136117       0.0  \n",
       "3                                     None       NaN        NaN       NaN  \n",
       "4                                     None       NaN        NaN       NaN  \n",
       "..                                     ...       ...        ...       ...  \n",
       "145           (4.702363, -74.1343859, 0.0)  4.702363 -74.134386       0.0  \n",
       "146          (4.5885666, -74.0945999, 0.0)  4.588567 -74.094600       0.0  \n",
       "147          (4.7042454, -74.0426802, 0.0)  4.704245 -74.042680       0.0  \n",
       "148          (4.5799733, -74.0826426, 0.0)  4.579973 -74.082643       0.0  \n",
       "149  (4.65546215, -74.06404727278832, 0.0)  4.655462 -74.064047       0.0  \n",
       "\n",
       "[150 rows x 10 columns]"
      ],
      "text/html": "<div>\n<style scoped>\n    .dataframe tbody tr th:only-of-type {\n        vertical-align: middle;\n    }\n\n    .dataframe tbody tr th {\n        vertical-align: top;\n    }\n\n    .dataframe thead th {\n        text-align: right;\n    }\n</style>\n<table border=\"1\" class=\"dataframe\">\n  <thead>\n    <tr style=\"text-align: right;\">\n      <th></th>\n      <th>list-resultado</th>\n      <th>list-negocio-nombre</th>\n      <th>list-direccion</th>\n      <th>list-barrio</th>\n      <th>loc</th>\n      <th>full-direccion</th>\n      <th>point</th>\n      <th>lat</th>\n      <th>lon</th>\n      <th>altitude</th>\n    </tr>\n  </thead>\n  <tbody>\n    <tr>\n      <th>0</th>\n      <td>1</td>\n      <td>Andino</td>\n      <td>Carrera 11 #82-71</td>\n      <td>Chapinero</td>\n      <td>(Carrera 11, Sosiego Sur, UPZ San José, Locali...</td>\n      <td>Carrera 11 #82-71,Bogotá,Colombia</td>\n      <td>(4.5755692, -74.0986757, 0.0)</td>\n      <td>4.575569</td>\n      <td>-74.098676</td>\n      <td>0.0</td>\n    </tr>\n    <tr>\n      <th>1</th>\n      <td>2</td>\n      <td>Antares</td>\n      <td>Autopista Sur Cra 4 # 31-40</td>\n      <td>Municipios Aledaños</td>\n      <td>None</td>\n      <td>Autopista Sur Cra 4 # 31-40,Bogotá,Colombia</td>\n      <td>None</td>\n      <td>NaN</td>\n      <td>NaN</td>\n      <td>NaN</td>\n    </tr>\n    <tr>\n      <th>2</th>\n      <td>3</td>\n      <td>Apolo</td>\n      <td>Calle 16 #8-95</td>\n      <td>Santa Fé</td>\n      <td>(Calle 16, El Vergel, UPZ Castilla, Localidad ...</td>\n      <td>Calle 16 #8-95,Bogotá,Colombia</td>\n      <td>(4.6547368, -74.1361171, 0.0)</td>\n      <td>4.654737</td>\n      <td>-74.136117</td>\n      <td>0.0</td>\n    </tr>\n    <tr>\n      <th>3</th>\n      <td>4</td>\n      <td>Artesanías de la 53</td>\n      <td>Calle 53 #18-31</td>\n      <td>Teusaquillo</td>\n      <td>None</td>\n      <td>Calle 53 #18-31,Bogotá,Colombia</td>\n      <td>None</td>\n      <td>NaN</td>\n      <td>NaN</td>\n      <td>NaN</td>\n    </tr>\n    <tr>\n      <th>4</th>\n      <td>5</td>\n      <td>Asturias de Oviedo</td>\n      <td>Carrera 10 #1-50 Vía Guaymaral</td>\n      <td>Municipios Aledaños</td>\n      <td>None</td>\n      <td>Carrera 10 #1-50 Vía Guaymaral,Bogotá,Colombia</td>\n      <td>None</td>\n      <td>NaN</td>\n      <td>NaN</td>\n      <td>NaN</td>\n    </tr>\n    <tr>\n      <th>...</th>\n      <td>...</td>\n      <td>...</td>\n      <td>...</td>\n      <td>...</td>\n      <td>...</td>\n      <td>...</td>\n      <td>...</td>\n      <td>...</td>\n      <td>...</td>\n      <td>...</td>\n    </tr>\n    <tr>\n      <th>145</th>\n      <td>146</td>\n      <td>Unicentro de Occidente</td>\n      <td>Carrera 111C #86-05</td>\n      <td>Engativá</td>\n      <td>(Carrera 111C, San Antonio Urbano, UPZ Engativ...</td>\n      <td>Carrera 111C #86-05,Bogotá,Colombia</td>\n      <td>(4.702363, -74.1343859, 0.0)</td>\n      <td>4.702363</td>\n      <td>-74.134386</td>\n      <td>0.0</td>\n    </tr>\n    <tr>\n      <th>146</th>\n      <td>147</td>\n      <td>Unilago</td>\n      <td>Carrera 15 #78-33</td>\n      <td>Chapinero</td>\n      <td>(Carrera 15, San Antonio, UPZ Restrepo, Locali...</td>\n      <td>Carrera 15 #78-33,Bogotá,Colombia</td>\n      <td>(4.5885666, -74.0945999, 0.0)</td>\n      <td>4.588567</td>\n      <td>-74.094600</td>\n      <td>0.0</td>\n    </tr>\n    <tr>\n      <th>147</th>\n      <td>148</td>\n      <td>Unilago</td>\n      <td>Avenida Carrera 15 #78-33</td>\n      <td>Chapinero</td>\n      <td>(Avenida Carrera 15, La Ermita, UPZ Country Cl...</td>\n      <td>Avenida Carrera 15 #78-33,Bogotá,Colombia</td>\n      <td>(4.7042454, -74.0426802, 0.0)</td>\n      <td>4.704245</td>\n      <td>-74.042680</td>\n      <td>0.0</td>\n    </tr>\n    <tr>\n      <th>148</th>\n      <td>149</td>\n      <td>Unisur</td>\n      <td>Carrera 4 #28-10</td>\n      <td>Municipios Aledaños</td>\n      <td>(Carrera 4, Buenos Aires, UPZ Sosiego, Localid...</td>\n      <td>Carrera 4 #28-10,Bogotá,Colombia</td>\n      <td>(4.5799733, -74.0826426, 0.0)</td>\n      <td>4.579973</td>\n      <td>-74.082643</td>\n      <td>0.0</td>\n    </tr>\n    <tr>\n      <th>149</th>\n      <td>150</td>\n      <td>Universal</td>\n      <td>Avenida Caracas #12-81</td>\n      <td>Mártires</td>\n      <td>(Avenida Caracas, UPZ Los Alcázares, Localidad...</td>\n      <td>Avenida Caracas #12-81,Bogotá,Colombia</td>\n      <td>(4.65546215, -74.06404727278832, 0.0)</td>\n      <td>4.655462</td>\n      <td>-74.064047</td>\n      <td>0.0</td>\n    </tr>\n  </tbody>\n</table>\n<p>150 rows × 10 columns</p>\n</div>"
     },
     "metadata": {},
     "execution_count": 161
    }
   ],
   "source": [
    "df_final"
   ]
  },
  {
   "cell_type": "code",
   "execution_count": 164,
   "metadata": {},
   "outputs": [
    {
     "output_type": "execute_result",
     "data": {
      "text/plain": [
       "Location(Centro Comercial Andino, UPZ Chicó Lago, Localidad Chapinero, Bogotá, Bogotá Distrito Capital, Región Andina, 11001, Colombia, (4.6675597, -74.05273652554914, 0.0))"
      ]
     },
     "metadata": {},
     "execution_count": 164
    }
   ],
   "source": [
    "location = \"Centro Comercial Andino, Chapinero\"\n",
    "geolocator.geocode(location)"
   ]
  },
  {
   "source": [
    "# Prueba dos con el nombre del centro comercial"
   ],
   "cell_type": "markdown",
   "metadata": {}
  },
  {
   "cell_type": "code",
   "execution_count": 165,
   "metadata": {},
   "outputs": [],
   "source": [
    "df_prueba2 = df_final.copy()\n",
    "df_prueba2 = df_prueba2[[\"list-resultado\",'list-negocio-nombre','list-barrio']]"
   ]
  },
  {
   "cell_type": "code",
   "execution_count": 170,
   "metadata": {},
   "outputs": [],
   "source": [
    "df_prueba2['Nombre-CC'] = \"Centro Comercial \"+df_prueba2['list-negocio-nombre']+\", \"+'Colombia'\n",
    "df_prueba2['loc'] = df_prueba2[\"Nombre-CC\"].apply(geolocator.geocode)"
   ]
  },
  {
   "cell_type": "code",
   "execution_count": null,
   "metadata": {},
   "outputs": [],
   "source": [
    "df_prueba2[\"point\"]= df_prueba2[\"loc\"].apply(lambda loc: tuple(loc.point) if loc else None)\n",
    "df_prueba2[['lat', 'lon', 'altitude']] = pd.DataFrame(df_prueba2['point'].to_list(), index=df_prueba2.index)"
   ]
  },
  {
   "cell_type": "code",
   "execution_count": 172,
   "metadata": {},
   "outputs": [
    {
     "output_type": "execute_result",
     "data": {
      "text/plain": [
       "array(['Chapinero', 'Municipios Aledaños', 'Santa Fé', 'Teusaquillo',\n",
       "       'Suba', 'San Cristóbal', 'Kennedy', 'Usaquén', 'Puente Aranda',\n",
       "       'Candelaria', 'Antonio Nariño', 'Tunjuelito', 'Engativá',\n",
       "       'Mártires', 'Fontibón', 'Barrios Unidos'], dtype=object)"
      ]
     },
     "metadata": {},
     "execution_count": 172
    }
   ],
   "source": [
    "df_prueba2['list-barrio'].unique()"
   ]
  },
  {
   "cell_type": "code",
   "execution_count": null,
   "metadata": {},
   "outputs": [],
   "source": []
  },
  {
   "source": [
    "# Otra pagina web"
   ],
   "cell_type": "markdown",
   "metadata": {}
  },
  {
   "cell_type": "code",
   "execution_count": 189,
   "metadata": {},
   "outputs": [],
   "source": [
    "with open('../data/cc_bogota.json', encoding='utf-8') as f:\n",
    "    cc_bogota = json.load(f)"
   ]
  },
  {
   "cell_type": "code",
   "execution_count": 190,
   "metadata": {},
   "outputs": [],
   "source": [
    "df = pd.json_normalize(cc_bogota['features'])"
   ]
  },
  {
   "cell_type": "code",
   "execution_count": 193,
   "metadata": {},
   "outputs": [
    {
     "output_type": "execute_result",
     "data": {
      "text/plain": [
       "       type                               properties.CCENNOM  \\\n",
       "0   Feature       Pasaje Cultural y Comercial CED Centenario   \n",
       "1   Feature      Caseta Feria Popular Rotonda Barrios Unidos   \n",
       "2   Feature                  Punto Comercial Siete de agosto   \n",
       "3   Feature                     Plataforma Logística de Bosa   \n",
       "4   Feature                        Centro Comercial Caravana   \n",
       "5   Feature                                     Box Coulvert   \n",
       "6   Feature          Caseta Feria Popular Rotonda Candelaria   \n",
       "7   Feature             Plaza Comercial y Artesanal Furatena   \n",
       "8   Feature           Caseta Feria Popular Rotonda Chapinero   \n",
       "9   Feature                  Punto Comercial Flores de la 68   \n",
       "10  Feature                      Centro Comercial Minicentro   \n",
       "11  Feature                Caseta Feria Popular del Quirigua   \n",
       "12  Feature             Caseta Feria Popular Kennedy central   \n",
       "13  Feature        Punto Comercial Supermercado La Esperanza   \n",
       "14  Feature                 Caseta Feria Popular Cachivaches   \n",
       "15  Feature                Restaurante Popular Cuatrovientos   \n",
       "16  Feature                   Galería comercial Plaza España   \n",
       "17  Feature                           San Andresito plaza 38   \n",
       "18  Feature                     Pasaje comercial Santa Lucia   \n",
       "19  Feature  Madrugón de Frutas y Verduras – Lote Los Sierra   \n",
       "20  Feature             Plazoleta de comidas del 20 de julio   \n",
       "21  Feature                       Recinto Ferial 20 de Julio   \n",
       "22  Feature                   Galería de las Flores calle 26   \n",
       "23  Feature                            Bulevar de la Caracas   \n",
       "24  Feature          Centro Comercial y Cultural La Veracruz   \n",
       "25  Feature                     Galería artesanal Avenida 19   \n",
       "26  Feature                 Alternativa Comercial Manzana 22   \n",
       "27  Feature             Caseta Feria Popular Rotonda Santafé   \n",
       "28  Feature                                Galerías calle 53   \n",
       "29  Feature       Galerías Plaza Centro Cultural y Comercial   \n",
       "30  Feature  Plazoleta cultural y comercial Flores de la 200   \n",
       "31  Feature                  Punto Comercial Bode Ganga Usme   \n",
       "\n",
       "                   properties.CCENDIR  properties.CCENLOC  \\\n",
       "0     Transversal 21 A # 21A - 65 Sur      Antonio Nariño   \n",
       "1                Calle 72 A # 67 - 75      Barrios Unidos   \n",
       "2                Carrera 25 # 66 - 65      Barrios Unidos   \n",
       "3                Calle 69 SUR # 95-56                Bosa   \n",
       "4                   Calle 12 # 9 - 68          Candelaria   \n",
       "5                   Calle 12 # 9 - 68          Candelaria   \n",
       "6                   Calle 12 # 6 - 56          Candelaria   \n",
       "7                     Calle 14 # 8-53          Candelaria   \n",
       "8           Avenida Caracas # 50 - 60           Chapinero   \n",
       "9        Avenida Carrera 13 # 68 - 76           Chapinero   \n",
       "10               Carrera 13 # 60 - 29           Chapinero   \n",
       "11                   Calle 82 # 92-53            Engativa   \n",
       "12       Carrera 78 K # 37 A - 11 SUR             Kennedy   \n",
       "13                 Calle 19 # 22 - 20        Los Mártires   \n",
       "14               Carrera 17 # 14 - 23        Los Mártires   \n",
       "15             Carrera 26 # 19-57 Sur        Los Mártires   \n",
       "16               Carrera 19 # 10 - 25        Los Mártires   \n",
       "17             Carrera 38 # 10 a - 21       Puente Aranda   \n",
       "18    Avenida Caracas # 44 C - 21 SUR  Rafaél Uribe Uribe   \n",
       "19              Calle 23 Sur # 5 - 36       San Cristobal   \n",
       "20              Calle 26 Sur # 6 - 35       San Cristobal   \n",
       "21           Diagonal 30 A Sur # 5-91       San Cristobal   \n",
       "22         Avenida Caracas - Calle 26            Santa Fé   \n",
       "23     Calle 13 # Avenida Caracas - 0            Santa Fé   \n",
       "24                    Calle 17 # 4-65            Santa Fé   \n",
       "25                    Calle 19 # 9-68            Santa Fé   \n",
       "26                 Carrera 11 # 9 - 1            Santa Fé   \n",
       "27                  Carrera 7 # 26-88            Santa Fé   \n",
       "28           Avenida Calle 53 # 19-19         Teusaquillo   \n",
       "29                 Carrera 27 # 52-39         Teusaquillo   \n",
       "30         Autopista Norte # 197 - 52             Usaquen   \n",
       "31  Avenida carrera 1 # 73 D - 36 Sur                Usme   \n",
       "\n",
       "                                properties.CCENBARRIO  \\\n",
       "0              Restrepo - U.R. Alfonso Lopez Pumarejo   \n",
       "1                                        San Fernando   \n",
       "2                                     Siete De Agosto   \n",
       "3                             S.C. San Bernardino Xvi   \n",
       "4                                         La Catedral   \n",
       "5                                         La Catedral   \n",
       "6                                         La Catedral   \n",
       "7                                         La Catedral   \n",
       "8                                          S.C. Marly   \n",
       "9                            La Esperanza Nororiental   \n",
       "10                             S.C. Chapinero Central   \n",
       "11                            Quirigua (Agrupación 1)   \n",
       "12  Ciudad Kennedy Norte C.R. Francisco Jose De Ca...   \n",
       "13                                         Paloquemao   \n",
       "14                                      San Victorino   \n",
       "15                                         Paloquemao   \n",
       "16                                          La Sabana   \n",
       "17                                         Los Ejidos   \n",
       "18                                   S.C. Santa Lucia   \n",
       "19                                   S.C. Granada Sur   \n",
       "20                                   S.C. 20 De Julio   \n",
       "21                                         Suramerica   \n",
       "22                                          San Diego   \n",
       "23                                       La Capuchina   \n",
       "24                                           Veracruz   \n",
       "25                                         Las Nieves   \n",
       "26                                         Santa Ines   \n",
       "27                                          San Diego   \n",
       "28                                      Banco Central   \n",
       "29                                           Galerias   \n",
       "30                     Urbanizacion Parque Las Flores   \n",
       "31                    El Refugio Sector Santa Librada   \n",
       "\n",
       "                                   properties.CCENHOR  \\\n",
       "0                   Lunes - Domingo 8:00 AM a 8:00 PM   \n",
       "1                    Lunes - Sábado 7:00 AM a 6:00 PM   \n",
       "2                    Lunes - Sábado 7:00 AM a 7:00 PM   \n",
       "3                   Lunes - Domingo 7:00 AM a 7:00 PM   \n",
       "4   Lunes - Sábado 7:00 AM a 7:00 PM Domingos - Fe...   \n",
       "5   Lunes - Sábado 7:00 AM a 7:00 PM Domingos - Fe...   \n",
       "6   Lunes - Sábado 7:00 AM a 7:00 PM Domingos - Fe...   \n",
       "7                    Lunes - Sábado 7:00 AM a 7:00 PM   \n",
       "8                    Lunes - Sábado 7:00 AM a 7:00 PM   \n",
       "9                   Lunes - Domingo 7:00 AM a 7:00 PM   \n",
       "10                  Lunes - Sábado 10:00 AM a 7:00 PM   \n",
       "11                  Lunes - Domingo 7:00 AM a 7:00 PM   \n",
       "12                  Lunes - Domingo 8:00 AM a 8:00 PM   \n",
       "13                  Lunes - Domingo 6:00 AM a 5:00 PM   \n",
       "14                  Lunes - Domingo 7:00 AM a 7:00 PM   \n",
       "15                           Lunes - Domingo 24 Horas   \n",
       "16                  Lunes - Domingo 8:00 AM a 6:00 PM   \n",
       "17  Lunes - Sábado 9:00 AM a 7:00 PM Domingos - Fe...   \n",
       "18                  Lunes - Domingo 7:00 AM a 7:00 PM   \n",
       "19                  Lunes - Domingo 7:00 AM a 7:00 PM   \n",
       "20                  Lunes - Domingo 8:00 AM a 5:00 PM   \n",
       "21                  Lunes - Domingo 9:00 AM a 5:00 PM   \n",
       "22                 Lunes - Domingo 7:00 AM a 10:00 PM   \n",
       "23                  Lunes - Domingo 8:00 AM a 7:00 PM   \n",
       "24                   Lunes - Sábado 9:00 AM a 7:00 PM   \n",
       "25                  Lunes - Domingo 7:00 AM a 7:00 PM   \n",
       "26                  Lunes - Domingo 8:00 AM a 6:00 PM   \n",
       "27                  Lunes - Domingo 8:00 AM a 8:00 PM   \n",
       "28                  Lunes - Sábado 11:00 AM a 6:00 PM   \n",
       "29                  Martes - Sábado 4:00 PM a 2:00 AM   \n",
       "30                  Lunes - Domingo 8:00 AM a 6:00 PM   \n",
       "31                  Lunes - Domingo 8:00 AM a 6:30 PM   \n",
       "\n",
       "                                properties.CCENPROSER  properties.CCENNUMLOC  \\\n",
       "0        ropa, frutas y verduras, hiervas, bisutería.                    153   \n",
       "1   confitería, libros, servicio de arreglo de zap...                     12   \n",
       "2                                 ropa, marroquinería                     29   \n",
       "3         bisutería, confitería y alimentos envasados                    113   \n",
       "4   inciensos, infusiones de hierbas, cremas, jabo...                     13   \n",
       "5   ropa, artesanías, productos naturistas como: p...                     25   \n",
       "6   servicio de cafetería, artesanías, joyería, se...                     18   \n",
       "7   ropa, artesanías, productos naturales, frutas ...                     81   \n",
       "8   servicio de arreglo de ropa, libros, artículos...                     35   \n",
       "9                                   arreglos florales                     44   \n",
       "10                                     ropa, peluches                     27   \n",
       "11             ropa, artesanías, uniformes escolares.                     49   \n",
       "12               juguetería, ropa, libros de segunda.                     72   \n",
       "13                                  frutas y verduras                     27   \n",
       "14                                   productos usados                     54   \n",
       "15                           servicio de restaurante.                     12   \n",
       "16  ropa usada, ropa nueva, calzado nuevo, servici...                    370   \n",
       "17                                     ropa, calzado.                    273   \n",
       "18                       hiervas, ferretería, lotería                     16   \n",
       "19                                  frutas y verduras                    111   \n",
       "20  servicio de restaurante con variedad de platos...                     10   \n",
       "21  ropa, calzado, accesorios para teléfono celula...                     62   \n",
       "22                                  arreglos florales                     25   \n",
       "23  ropa, calzado, accesorios celulares, bolsos, s...                     40   \n",
       "24  artesanías, ropa, venta de bisutería, servicio...                     63   \n",
       "25      variedades, servicio de arreglo de celulares.                     21   \n",
       "26                                     ropa, calzado.                    140   \n",
       "27                                         artesanías                     22   \n",
       "28                                         artesanías                     16   \n",
       "29                               licores, comestibles                     30   \n",
       "30                                  arreglos florales                     53   \n",
       "31  ropa, calzado, cachivaches, arreglo de electro...                     62   \n",
       "\n",
       "     properties.CCENSITWEB  properties.LATITUD  properties.LONGITUD  \\\n",
       "0   http://www.ipes.gov.co            4.584853           -74.104596   \n",
       "1   http://www.ipes.gov.co            4.677590           -74.085569   \n",
       "2   http://www.ipes.gov.co            4.658268           -74.070989   \n",
       "3   http://www.ipes.gov.co            4.632020           -74.199101   \n",
       "4   http://www.ipes.gov.co            4.600855           -74.077001   \n",
       "5   http://www.ipes.gov.co            4.600855           -74.077001   \n",
       "6   http://www.ipes.gov.co            4.598975           -74.074328   \n",
       "7   http://www.ipes.gov.co            4.601595           -74.075275   \n",
       "8   http://www.ipes.gov.co            4.637407           -74.066769   \n",
       "9   http://www.ipes.gov.co            4.650404           -74.063202   \n",
       "10  http://www.ipes.gov.co            4.647222           -74.064219   \n",
       "11  http://www.ipes.gov.co            4.707704           -74.104607   \n",
       "12  http://www.ipes.gov.co            4.624220           -74.153758   \n",
       "13  http://www.ipes.gov.co            4.614710           -74.083667   \n",
       "14  http://www.ipes.gov.co            4.606800           -74.081849   \n",
       "15  http://www.ipes.gov.co            4.589411           -74.107688   \n",
       "16  http://www.ipes.gov.co            4.604745           -74.086431   \n",
       "17  http://www.ipes.gov.co            4.616851           -74.102124   \n",
       "18  http://www.ipes.gov.co            4.574113           -74.123863   \n",
       "19  http://www.ipes.gov.co            4.570844           -74.092005   \n",
       "20  http://www.ipes.gov.co            4.569838           -74.094640   \n",
       "21  http://www.ipes.gov.co            4.566410           -74.096224   \n",
       "22  http://www.ipes.gov.co            0.000000             0.000000   \n",
       "23  http://www.ipes.gov.co            0.000000             0.000000   \n",
       "24  http://www.ipes.gov.co            4.602005           -74.070474   \n",
       "25  http://www.ipes.gov.co            4.606847           -74.073562   \n",
       "26  http://www.ipes.gov.co            4.598741           -74.079985   \n",
       "27  http://www.ipes.gov.co            4.613341           -74.069309   \n",
       "28  http://www.ipes.gov.co            4.641062           -74.071033   \n",
       "29  http://www.ipes.gov.co            4.641555           -74.076207   \n",
       "30  http://www.ipes.gov.co            0.000000             0.000000   \n",
       "31  http://www.ipes.gov.co            4.624993           -74.144482   \n",
       "\n",
       "   geometry.type                               geometry.coordinates  \n",
       "0          Point            [-74.10441164628877, 4.584759040295161]  \n",
       "1          Point            [-74.08559712975556, 4.677652125439473]  \n",
       "2          Point            [-74.07101805839586, 4.658329544591293]  \n",
       "3          Point            [-74.19912934060144, 4.632081462060175]  \n",
       "4          Point            [-74.07702963098959, 4.600916373570125]  \n",
       "5          Point            [-74.07702963098959, 4.600916373570125]  \n",
       "6          Point            [-74.07435664804761, 4.599037235258418]  \n",
       "7          Point            [-74.07530332054178, 4.601657168931698]  \n",
       "8          Point            [-74.06679733211826, 4.637468524142977]  \n",
       "9          Point            [-74.06323055331636, 4.650465866025476]  \n",
       "10         Point            [-74.06424751808322, 4.647284046071051]  \n",
       "11         Point             [-74.1046355181357, 4.707766201893057]  \n",
       "12         Point             [-74.1537865173094, 4.624282354951389]  \n",
       "13         Point            [-74.08369555350424, 4.614771866054902]  \n",
       "14         Point             [-74.0818166552223, 4.607065239315322]  \n",
       "15         Point            [-74.10794070752685, 4.589378188240488]  \n",
       "16         Point            [-74.08645925551014, 4.604807155946276]  \n",
       "17         Point            [-74.10215255313082, 4.616912866544329]  \n",
       "18         Point             [-74.1238915539361, 4.574174866529067]  \n",
       "19         Point            [-74.09203305930299, 4.570905374433183]  \n",
       "20         Point            [-74.09466842529243, 4.569900253273966]  \n",
       "21         Point            [-74.09625244709079, 4.566472150596966]  \n",
       "22         Point  [-1.7976931348623157e+308, -1.7976931348623157...  \n",
       "23         Point  [-1.7976931348623157e+308, -1.7976931348623157...  \n",
       "24         Point            [-74.07050274791797, 4.602066474970734]  \n",
       "25         Point            [-74.07359058812952, 4.606909183171897]  \n",
       "26         Point            [-74.08001329447593, 4.598803008703775]  \n",
       "27         Point            [-74.06933731139759, 4.613402796980306]  \n",
       "28         Point             [-74.07106137426054, 4.64112367293173]  \n",
       "29         Point             [-74.0762356774836, 4.641616524568158]  \n",
       "30         Point  [-1.7976931348623157e+308, -1.7976931348623157...  \n",
       "31         Point            [-74.14451055321148, 4.625054865727026]  "
      ],
      "text/html": "<div>\n<style scoped>\n    .dataframe tbody tr th:only-of-type {\n        vertical-align: middle;\n    }\n\n    .dataframe tbody tr th {\n        vertical-align: top;\n    }\n\n    .dataframe thead th {\n        text-align: right;\n    }\n</style>\n<table border=\"1\" class=\"dataframe\">\n  <thead>\n    <tr style=\"text-align: right;\">\n      <th></th>\n      <th>type</th>\n      <th>properties.CCENNOM</th>\n      <th>properties.CCENDIR</th>\n      <th>properties.CCENLOC</th>\n      <th>properties.CCENBARRIO</th>\n      <th>properties.CCENHOR</th>\n      <th>properties.CCENPROSER</th>\n      <th>properties.CCENNUMLOC</th>\n      <th>properties.CCENSITWEB</th>\n      <th>properties.LATITUD</th>\n      <th>properties.LONGITUD</th>\n      <th>geometry.type</th>\n      <th>geometry.coordinates</th>\n    </tr>\n  </thead>\n  <tbody>\n    <tr>\n      <th>0</th>\n      <td>Feature</td>\n      <td>Pasaje Cultural y Comercial CED Centenario</td>\n      <td>Transversal 21 A # 21A - 65 Sur</td>\n      <td>Antonio Nariño</td>\n      <td>Restrepo - U.R. Alfonso Lopez Pumarejo</td>\n      <td>Lunes - Domingo 8:00 AM a 8:00 PM</td>\n      <td>ropa, frutas y verduras, hiervas, bisutería.</td>\n      <td>153</td>\n      <td>http://www.ipes.gov.co</td>\n      <td>4.584853</td>\n      <td>-74.104596</td>\n      <td>Point</td>\n      <td>[-74.10441164628877, 4.584759040295161]</td>\n    </tr>\n    <tr>\n      <th>1</th>\n      <td>Feature</td>\n      <td>Caseta Feria Popular Rotonda Barrios Unidos</td>\n      <td>Calle 72 A # 67 - 75</td>\n      <td>Barrios Unidos</td>\n      <td>San Fernando</td>\n      <td>Lunes - Sábado 7:00 AM a 6:00 PM</td>\n      <td>confitería, libros, servicio de arreglo de zap...</td>\n      <td>12</td>\n      <td>http://www.ipes.gov.co</td>\n      <td>4.677590</td>\n      <td>-74.085569</td>\n      <td>Point</td>\n      <td>[-74.08559712975556, 4.677652125439473]</td>\n    </tr>\n    <tr>\n      <th>2</th>\n      <td>Feature</td>\n      <td>Punto Comercial Siete de agosto</td>\n      <td>Carrera 25 # 66 - 65</td>\n      <td>Barrios Unidos</td>\n      <td>Siete De Agosto</td>\n      <td>Lunes - Sábado 7:00 AM a 7:00 PM</td>\n      <td>ropa, marroquinería</td>\n      <td>29</td>\n      <td>http://www.ipes.gov.co</td>\n      <td>4.658268</td>\n      <td>-74.070989</td>\n      <td>Point</td>\n      <td>[-74.07101805839586, 4.658329544591293]</td>\n    </tr>\n    <tr>\n      <th>3</th>\n      <td>Feature</td>\n      <td>Plataforma Logística de Bosa</td>\n      <td>Calle 69 SUR # 95-56</td>\n      <td>Bosa</td>\n      <td>S.C. San Bernardino Xvi</td>\n      <td>Lunes - Domingo 7:00 AM a 7:00 PM</td>\n      <td>bisutería, confitería y alimentos envasados</td>\n      <td>113</td>\n      <td>http://www.ipes.gov.co</td>\n      <td>4.632020</td>\n      <td>-74.199101</td>\n      <td>Point</td>\n      <td>[-74.19912934060144, 4.632081462060175]</td>\n    </tr>\n    <tr>\n      <th>4</th>\n      <td>Feature</td>\n      <td>Centro Comercial Caravana</td>\n      <td>Calle 12 # 9 - 68</td>\n      <td>Candelaria</td>\n      <td>La Catedral</td>\n      <td>Lunes - Sábado 7:00 AM a 7:00 PM Domingos - Fe...</td>\n      <td>inciensos, infusiones de hierbas, cremas, jabo...</td>\n      <td>13</td>\n      <td>http://www.ipes.gov.co</td>\n      <td>4.600855</td>\n      <td>-74.077001</td>\n      <td>Point</td>\n      <td>[-74.07702963098959, 4.600916373570125]</td>\n    </tr>\n    <tr>\n      <th>5</th>\n      <td>Feature</td>\n      <td>Box Coulvert</td>\n      <td>Calle 12 # 9 - 68</td>\n      <td>Candelaria</td>\n      <td>La Catedral</td>\n      <td>Lunes - Sábado 7:00 AM a 7:00 PM Domingos - Fe...</td>\n      <td>ropa, artesanías, productos naturistas como: p...</td>\n      <td>25</td>\n      <td>http://www.ipes.gov.co</td>\n      <td>4.600855</td>\n      <td>-74.077001</td>\n      <td>Point</td>\n      <td>[-74.07702963098959, 4.600916373570125]</td>\n    </tr>\n    <tr>\n      <th>6</th>\n      <td>Feature</td>\n      <td>Caseta Feria Popular Rotonda Candelaria</td>\n      <td>Calle 12 # 6 - 56</td>\n      <td>Candelaria</td>\n      <td>La Catedral</td>\n      <td>Lunes - Sábado 7:00 AM a 7:00 PM Domingos - Fe...</td>\n      <td>servicio de cafetería, artesanías, joyería, se...</td>\n      <td>18</td>\n      <td>http://www.ipes.gov.co</td>\n      <td>4.598975</td>\n      <td>-74.074328</td>\n      <td>Point</td>\n      <td>[-74.07435664804761, 4.599037235258418]</td>\n    </tr>\n    <tr>\n      <th>7</th>\n      <td>Feature</td>\n      <td>Plaza Comercial y Artesanal Furatena</td>\n      <td>Calle 14 # 8-53</td>\n      <td>Candelaria</td>\n      <td>La Catedral</td>\n      <td>Lunes - Sábado 7:00 AM a 7:00 PM</td>\n      <td>ropa, artesanías, productos naturales, frutas ...</td>\n      <td>81</td>\n      <td>http://www.ipes.gov.co</td>\n      <td>4.601595</td>\n      <td>-74.075275</td>\n      <td>Point</td>\n      <td>[-74.07530332054178, 4.601657168931698]</td>\n    </tr>\n    <tr>\n      <th>8</th>\n      <td>Feature</td>\n      <td>Caseta Feria Popular Rotonda Chapinero</td>\n      <td>Avenida Caracas # 50 - 60</td>\n      <td>Chapinero</td>\n      <td>S.C. Marly</td>\n      <td>Lunes - Sábado 7:00 AM a 7:00 PM</td>\n      <td>servicio de arreglo de ropa, libros, artículos...</td>\n      <td>35</td>\n      <td>http://www.ipes.gov.co</td>\n      <td>4.637407</td>\n      <td>-74.066769</td>\n      <td>Point</td>\n      <td>[-74.06679733211826, 4.637468524142977]</td>\n    </tr>\n    <tr>\n      <th>9</th>\n      <td>Feature</td>\n      <td>Punto Comercial Flores de la 68</td>\n      <td>Avenida Carrera 13 # 68 - 76</td>\n      <td>Chapinero</td>\n      <td>La Esperanza Nororiental</td>\n      <td>Lunes - Domingo 7:00 AM a 7:00 PM</td>\n      <td>arreglos florales</td>\n      <td>44</td>\n      <td>http://www.ipes.gov.co</td>\n      <td>4.650404</td>\n      <td>-74.063202</td>\n      <td>Point</td>\n      <td>[-74.06323055331636, 4.650465866025476]</td>\n    </tr>\n    <tr>\n      <th>10</th>\n      <td>Feature</td>\n      <td>Centro Comercial Minicentro</td>\n      <td>Carrera 13 # 60 - 29</td>\n      <td>Chapinero</td>\n      <td>S.C. Chapinero Central</td>\n      <td>Lunes - Sábado 10:00 AM a 7:00 PM</td>\n      <td>ropa, peluches</td>\n      <td>27</td>\n      <td>http://www.ipes.gov.co</td>\n      <td>4.647222</td>\n      <td>-74.064219</td>\n      <td>Point</td>\n      <td>[-74.06424751808322, 4.647284046071051]</td>\n    </tr>\n    <tr>\n      <th>11</th>\n      <td>Feature</td>\n      <td>Caseta Feria Popular del Quirigua</td>\n      <td>Calle 82 # 92-53</td>\n      <td>Engativa</td>\n      <td>Quirigua (Agrupación 1)</td>\n      <td>Lunes - Domingo 7:00 AM a 7:00 PM</td>\n      <td>ropa, artesanías, uniformes escolares.</td>\n      <td>49</td>\n      <td>http://www.ipes.gov.co</td>\n      <td>4.707704</td>\n      <td>-74.104607</td>\n      <td>Point</td>\n      <td>[-74.1046355181357, 4.707766201893057]</td>\n    </tr>\n    <tr>\n      <th>12</th>\n      <td>Feature</td>\n      <td>Caseta Feria Popular Kennedy central</td>\n      <td>Carrera 78 K # 37 A - 11 SUR</td>\n      <td>Kennedy</td>\n      <td>Ciudad Kennedy Norte C.R. Francisco Jose De Ca...</td>\n      <td>Lunes - Domingo 8:00 AM a 8:00 PM</td>\n      <td>juguetería, ropa, libros de segunda.</td>\n      <td>72</td>\n      <td>http://www.ipes.gov.co</td>\n      <td>4.624220</td>\n      <td>-74.153758</td>\n      <td>Point</td>\n      <td>[-74.1537865173094, 4.624282354951389]</td>\n    </tr>\n    <tr>\n      <th>13</th>\n      <td>Feature</td>\n      <td>Punto Comercial Supermercado La Esperanza</td>\n      <td>Calle 19 # 22 - 20</td>\n      <td>Los Mártires</td>\n      <td>Paloquemao</td>\n      <td>Lunes - Domingo 6:00 AM a 5:00 PM</td>\n      <td>frutas y verduras</td>\n      <td>27</td>\n      <td>http://www.ipes.gov.co</td>\n      <td>4.614710</td>\n      <td>-74.083667</td>\n      <td>Point</td>\n      <td>[-74.08369555350424, 4.614771866054902]</td>\n    </tr>\n    <tr>\n      <th>14</th>\n      <td>Feature</td>\n      <td>Caseta Feria Popular Cachivaches</td>\n      <td>Carrera 17 # 14 - 23</td>\n      <td>Los Mártires</td>\n      <td>San Victorino</td>\n      <td>Lunes - Domingo 7:00 AM a 7:00 PM</td>\n      <td>productos usados</td>\n      <td>54</td>\n      <td>http://www.ipes.gov.co</td>\n      <td>4.606800</td>\n      <td>-74.081849</td>\n      <td>Point</td>\n      <td>[-74.0818166552223, 4.607065239315322]</td>\n    </tr>\n    <tr>\n      <th>15</th>\n      <td>Feature</td>\n      <td>Restaurante Popular Cuatrovientos</td>\n      <td>Carrera 26 # 19-57 Sur</td>\n      <td>Los Mártires</td>\n      <td>Paloquemao</td>\n      <td>Lunes - Domingo 24 Horas</td>\n      <td>servicio de restaurante.</td>\n      <td>12</td>\n      <td>http://www.ipes.gov.co</td>\n      <td>4.589411</td>\n      <td>-74.107688</td>\n      <td>Point</td>\n      <td>[-74.10794070752685, 4.589378188240488]</td>\n    </tr>\n    <tr>\n      <th>16</th>\n      <td>Feature</td>\n      <td>Galería comercial Plaza España</td>\n      <td>Carrera 19 # 10 - 25</td>\n      <td>Los Mártires</td>\n      <td>La Sabana</td>\n      <td>Lunes - Domingo 8:00 AM a 6:00 PM</td>\n      <td>ropa usada, ropa nueva, calzado nuevo, servici...</td>\n      <td>370</td>\n      <td>http://www.ipes.gov.co</td>\n      <td>4.604745</td>\n      <td>-74.086431</td>\n      <td>Point</td>\n      <td>[-74.08645925551014, 4.604807155946276]</td>\n    </tr>\n    <tr>\n      <th>17</th>\n      <td>Feature</td>\n      <td>San Andresito plaza 38</td>\n      <td>Carrera 38 # 10 a - 21</td>\n      <td>Puente Aranda</td>\n      <td>Los Ejidos</td>\n      <td>Lunes - Sábado 9:00 AM a 7:00 PM Domingos - Fe...</td>\n      <td>ropa, calzado.</td>\n      <td>273</td>\n      <td>http://www.ipes.gov.co</td>\n      <td>4.616851</td>\n      <td>-74.102124</td>\n      <td>Point</td>\n      <td>[-74.10215255313082, 4.616912866544329]</td>\n    </tr>\n    <tr>\n      <th>18</th>\n      <td>Feature</td>\n      <td>Pasaje comercial Santa Lucia</td>\n      <td>Avenida Caracas # 44 C - 21 SUR</td>\n      <td>Rafaél Uribe Uribe</td>\n      <td>S.C. Santa Lucia</td>\n      <td>Lunes - Domingo 7:00 AM a 7:00 PM</td>\n      <td>hiervas, ferretería, lotería</td>\n      <td>16</td>\n      <td>http://www.ipes.gov.co</td>\n      <td>4.574113</td>\n      <td>-74.123863</td>\n      <td>Point</td>\n      <td>[-74.1238915539361, 4.574174866529067]</td>\n    </tr>\n    <tr>\n      <th>19</th>\n      <td>Feature</td>\n      <td>Madrugón de Frutas y Verduras – Lote Los Sierra</td>\n      <td>Calle 23 Sur # 5 - 36</td>\n      <td>San Cristobal</td>\n      <td>S.C. Granada Sur</td>\n      <td>Lunes - Domingo 7:00 AM a 7:00 PM</td>\n      <td>frutas y verduras</td>\n      <td>111</td>\n      <td>http://www.ipes.gov.co</td>\n      <td>4.570844</td>\n      <td>-74.092005</td>\n      <td>Point</td>\n      <td>[-74.09203305930299, 4.570905374433183]</td>\n    </tr>\n    <tr>\n      <th>20</th>\n      <td>Feature</td>\n      <td>Plazoleta de comidas del 20 de julio</td>\n      <td>Calle 26 Sur # 6 - 35</td>\n      <td>San Cristobal</td>\n      <td>S.C. 20 De Julio</td>\n      <td>Lunes - Domingo 8:00 AM a 5:00 PM</td>\n      <td>servicio de restaurante con variedad de platos...</td>\n      <td>10</td>\n      <td>http://www.ipes.gov.co</td>\n      <td>4.569838</td>\n      <td>-74.094640</td>\n      <td>Point</td>\n      <td>[-74.09466842529243, 4.569900253273966]</td>\n    </tr>\n    <tr>\n      <th>21</th>\n      <td>Feature</td>\n      <td>Recinto Ferial 20 de Julio</td>\n      <td>Diagonal 30 A Sur # 5-91</td>\n      <td>San Cristobal</td>\n      <td>Suramerica</td>\n      <td>Lunes - Domingo 9:00 AM a 5:00 PM</td>\n      <td>ropa, calzado, accesorios para teléfono celula...</td>\n      <td>62</td>\n      <td>http://www.ipes.gov.co</td>\n      <td>4.566410</td>\n      <td>-74.096224</td>\n      <td>Point</td>\n      <td>[-74.09625244709079, 4.566472150596966]</td>\n    </tr>\n    <tr>\n      <th>22</th>\n      <td>Feature</td>\n      <td>Galería de las Flores calle 26</td>\n      <td>Avenida Caracas - Calle 26</td>\n      <td>Santa Fé</td>\n      <td>San Diego</td>\n      <td>Lunes - Domingo 7:00 AM a 10:00 PM</td>\n      <td>arreglos florales</td>\n      <td>25</td>\n      <td>http://www.ipes.gov.co</td>\n      <td>0.000000</td>\n      <td>0.000000</td>\n      <td>Point</td>\n      <td>[-1.7976931348623157e+308, -1.7976931348623157...</td>\n    </tr>\n    <tr>\n      <th>23</th>\n      <td>Feature</td>\n      <td>Bulevar de la Caracas</td>\n      <td>Calle 13 # Avenida Caracas - 0</td>\n      <td>Santa Fé</td>\n      <td>La Capuchina</td>\n      <td>Lunes - Domingo 8:00 AM a 7:00 PM</td>\n      <td>ropa, calzado, accesorios celulares, bolsos, s...</td>\n      <td>40</td>\n      <td>http://www.ipes.gov.co</td>\n      <td>0.000000</td>\n      <td>0.000000</td>\n      <td>Point</td>\n      <td>[-1.7976931348623157e+308, -1.7976931348623157...</td>\n    </tr>\n    <tr>\n      <th>24</th>\n      <td>Feature</td>\n      <td>Centro Comercial y Cultural La Veracruz</td>\n      <td>Calle 17 # 4-65</td>\n      <td>Santa Fé</td>\n      <td>Veracruz</td>\n      <td>Lunes - Sábado 9:00 AM a 7:00 PM</td>\n      <td>artesanías, ropa, venta de bisutería, servicio...</td>\n      <td>63</td>\n      <td>http://www.ipes.gov.co</td>\n      <td>4.602005</td>\n      <td>-74.070474</td>\n      <td>Point</td>\n      <td>[-74.07050274791797, 4.602066474970734]</td>\n    </tr>\n    <tr>\n      <th>25</th>\n      <td>Feature</td>\n      <td>Galería artesanal Avenida 19</td>\n      <td>Calle 19 # 9-68</td>\n      <td>Santa Fé</td>\n      <td>Las Nieves</td>\n      <td>Lunes - Domingo 7:00 AM a 7:00 PM</td>\n      <td>variedades, servicio de arreglo de celulares.</td>\n      <td>21</td>\n      <td>http://www.ipes.gov.co</td>\n      <td>4.606847</td>\n      <td>-74.073562</td>\n      <td>Point</td>\n      <td>[-74.07359058812952, 4.606909183171897]</td>\n    </tr>\n    <tr>\n      <th>26</th>\n      <td>Feature</td>\n      <td>Alternativa Comercial Manzana 22</td>\n      <td>Carrera 11 # 9 - 1</td>\n      <td>Santa Fé</td>\n      <td>Santa Ines</td>\n      <td>Lunes - Domingo 8:00 AM a 6:00 PM</td>\n      <td>ropa, calzado.</td>\n      <td>140</td>\n      <td>http://www.ipes.gov.co</td>\n      <td>4.598741</td>\n      <td>-74.079985</td>\n      <td>Point</td>\n      <td>[-74.08001329447593, 4.598803008703775]</td>\n    </tr>\n    <tr>\n      <th>27</th>\n      <td>Feature</td>\n      <td>Caseta Feria Popular Rotonda Santafé</td>\n      <td>Carrera 7 # 26-88</td>\n      <td>Santa Fé</td>\n      <td>San Diego</td>\n      <td>Lunes - Domingo 8:00 AM a 8:00 PM</td>\n      <td>artesanías</td>\n      <td>22</td>\n      <td>http://www.ipes.gov.co</td>\n      <td>4.613341</td>\n      <td>-74.069309</td>\n      <td>Point</td>\n      <td>[-74.06933731139759, 4.613402796980306]</td>\n    </tr>\n    <tr>\n      <th>28</th>\n      <td>Feature</td>\n      <td>Galerías calle 53</td>\n      <td>Avenida Calle 53 # 19-19</td>\n      <td>Teusaquillo</td>\n      <td>Banco Central</td>\n      <td>Lunes - Sábado 11:00 AM a 6:00 PM</td>\n      <td>artesanías</td>\n      <td>16</td>\n      <td>http://www.ipes.gov.co</td>\n      <td>4.641062</td>\n      <td>-74.071033</td>\n      <td>Point</td>\n      <td>[-74.07106137426054, 4.64112367293173]</td>\n    </tr>\n    <tr>\n      <th>29</th>\n      <td>Feature</td>\n      <td>Galerías Plaza Centro Cultural y Comercial</td>\n      <td>Carrera 27 # 52-39</td>\n      <td>Teusaquillo</td>\n      <td>Galerias</td>\n      <td>Martes - Sábado 4:00 PM a 2:00 AM</td>\n      <td>licores, comestibles</td>\n      <td>30</td>\n      <td>http://www.ipes.gov.co</td>\n      <td>4.641555</td>\n      <td>-74.076207</td>\n      <td>Point</td>\n      <td>[-74.0762356774836, 4.641616524568158]</td>\n    </tr>\n    <tr>\n      <th>30</th>\n      <td>Feature</td>\n      <td>Plazoleta cultural y comercial Flores de la 200</td>\n      <td>Autopista Norte # 197 - 52</td>\n      <td>Usaquen</td>\n      <td>Urbanizacion Parque Las Flores</td>\n      <td>Lunes - Domingo 8:00 AM a 6:00 PM</td>\n      <td>arreglos florales</td>\n      <td>53</td>\n      <td>http://www.ipes.gov.co</td>\n      <td>0.000000</td>\n      <td>0.000000</td>\n      <td>Point</td>\n      <td>[-1.7976931348623157e+308, -1.7976931348623157...</td>\n    </tr>\n    <tr>\n      <th>31</th>\n      <td>Feature</td>\n      <td>Punto Comercial Bode Ganga Usme</td>\n      <td>Avenida carrera 1 # 73 D - 36 Sur</td>\n      <td>Usme</td>\n      <td>El Refugio Sector Santa Librada</td>\n      <td>Lunes - Domingo 8:00 AM a 6:30 PM</td>\n      <td>ropa, calzado, cachivaches, arreglo de electro...</td>\n      <td>62</td>\n      <td>http://www.ipes.gov.co</td>\n      <td>4.624993</td>\n      <td>-74.144482</td>\n      <td>Point</td>\n      <td>[-74.14451055321148, 4.625054865727026]</td>\n    </tr>\n  </tbody>\n</table>\n</div>"
     },
     "metadata": {},
     "execution_count": 193
    }
   ],
   "source": [
    "df"
   ]
  },
  {
   "cell_type": "code",
   "execution_count": 194,
   "metadata": {},
   "outputs": [
    {
     "output_type": "execute_result",
     "data": {
      "text/plain": [
       "dict_keys(['type', 'name', 'crs', 'features'])"
      ]
     },
     "metadata": {},
     "execution_count": 194
    }
   ],
   "source": [
    "cc_bogota.keys()"
   ]
  },
  {
   "cell_type": "code",
   "execution_count": 197,
   "metadata": {},
   "outputs": [
    {
     "output_type": "execute_result",
     "data": {
      "text/plain": [
       "{'type': 'name', 'properties': {'name': 'urn:ogc:def:crs:EPSG::4686'}}"
      ]
     },
     "metadata": {},
     "execution_count": 197
    }
   ],
   "source": [
    "cc_bogota['crs']"
   ]
  },
  {
   "cell_type": "code",
   "execution_count": null,
   "metadata": {},
   "outputs": [],
   "source": []
  },
  {
   "cell_type": "code",
   "execution_count": null,
   "metadata": {},
   "outputs": [],
   "source": []
  },
  {
   "source": [
    "# Valor del metro cuadrado de catastro"
   ],
   "cell_type": "markdown",
   "metadata": {}
  },
  {
   "cell_type": "code",
   "execution_count": 3,
   "metadata": {},
   "outputs": [
    {
     "output_type": "error",
     "ename": "ModuleNotFoundError",
     "evalue": "No module named 'geopandas'",
     "traceback": [
      "\u001b[1;31m---------------------------------------------------------------------------\u001b[0m",
      "\u001b[1;31mModuleNotFoundError\u001b[0m                       Traceback (most recent call last)",
      "\u001b[1;32m<ipython-input-3-a62d01c1d62e>\u001b[0m in \u001b[0;36m<module>\u001b[1;34m\u001b[0m\n\u001b[1;32m----> 1\u001b[1;33m \u001b[1;32mimport\u001b[0m \u001b[0mgeopandas\u001b[0m \u001b[1;32mas\u001b[0m \u001b[0mgpd\u001b[0m\u001b[1;33m\u001b[0m\u001b[1;33m\u001b[0m\u001b[0m\n\u001b[0m",
      "\u001b[1;31mModuleNotFoundError\u001b[0m: No module named 'geopandas'"
     ]
    }
   ],
   "source": [
    "import geopandas as gpd"
   ]
  },
  {
   "cell_type": "code",
   "execution_count": null,
   "metadata": {},
   "outputs": [],
   "source": [
    "catastro = gpd.read_file('data_m2_catastro/data.geojson')"
   ]
  },
  {
   "cell_type": "code",
   "execution_count": 199,
   "metadata": {},
   "outputs": [],
   "source": []
  },
  {
   "cell_type": "code",
   "execution_count": null,
   "metadata": {},
   "outputs": [],
   "source": []
  }
 ]
}